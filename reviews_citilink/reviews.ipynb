{
 "cells": [
  {
   "cell_type": "markdown",
   "metadata": {},
   "source": [
    "# Тональный анализ отзывов на телефоны с Ситилинка"
   ]
  },
  {
   "cell_type": "code",
   "execution_count": 1,
   "metadata": {},
   "outputs": [],
   "source": [
    "import pandas as pd\n",
    "import numpy as np\n",
    "import matplotlib.pyplot as plt\n",
    "import seaborn\n",
    "from pymongo import MongoClient\n",
    "from nltk.corpus import stopwords\n",
    "from sklearn import model_selection, metrics\n",
    "from sklearn.pipeline import make_pipeline\n",
    "from sklearn.ensemble import (\n",
    "    RandomForestClassifier, \n",
    "    BaggingClassifier,\n",
    "    AdaBoostClassifier\n",
    ")\n",
    "from sklearn.naive_bayes import MultinomialNB\n",
    "from sklearn.linear_model import LogisticRegression\n",
    "from sklearn.feature_extraction.text import TfidfVectorizer, CountVectorizer\n",
    "from pymystem3 import Mystem\n",
    "from string import punctuation"
   ]
  },
  {
   "cell_type": "markdown",
   "metadata": {},
   "source": [
    "## Первичный анализ\n",
    "### Данные сохранены в MongoDB"
   ]
  },
  {
   "cell_type": "code",
   "execution_count": 2,
   "metadata": {},
   "outputs": [],
   "source": [
    "client = MongoClient()\n",
    "db = client.opinions_db\n",
    "collection = db.opinions"
   ]
  },
  {
   "cell_type": "code",
   "execution_count": 3,
   "metadata": {},
   "outputs": [],
   "source": [
    "data = []\n",
    "for value in collection.find():\n",
    "    data.append([value['rate'], value['advantages'], value['disadvantages'], value['comment']])\n",
    "columns = ['rate', 'advantages', 'disadvantages', 'comment']"
   ]
  },
  {
   "cell_type": "code",
   "execution_count": 4,
   "metadata": {},
   "outputs": [
    {
     "data": {
      "text/html": [
       "<div>\n",
       "<style scoped>\n",
       "    .dataframe tbody tr th:only-of-type {\n",
       "        vertical-align: middle;\n",
       "    }\n",
       "\n",
       "    .dataframe tbody tr th {\n",
       "        vertical-align: top;\n",
       "    }\n",
       "\n",
       "    .dataframe thead th {\n",
       "        text-align: right;\n",
       "    }\n",
       "</style>\n",
       "<table border=\"1\" class=\"dataframe\">\n",
       "  <thead>\n",
       "    <tr style=\"text-align: right;\">\n",
       "      <th></th>\n",
       "      <th>rate</th>\n",
       "      <th>advantages</th>\n",
       "      <th>disadvantages</th>\n",
       "      <th>comment</th>\n",
       "    </tr>\n",
       "  </thead>\n",
       "  <tbody>\n",
       "    <tr>\n",
       "      <th>0</th>\n",
       "      <td>5</td>\n",
       "      <td>Быстрый Удобный в пользовании Быстрый FaceID В...</td>\n",
       "      <td>На задней панели остается очень много отпечатк...</td>\n",
       "      <td>Это мой первый iOS смартфон. И после трех неде...</td>\n",
       "    </tr>\n",
       "    <tr>\n",
       "      <th>1</th>\n",
       "      <td>5</td>\n",
       "      <td>дизайн, корпус, айОС, долговечность, надёжност...</td>\n",
       "      <td>камера сильно выступает из корпуса, придется д...</td>\n",
       "      <td>Покупкой полностью доволен!!!</td>\n",
       "    </tr>\n",
       "    <tr>\n",
       "      <th>2</th>\n",
       "      <td>5</td>\n",
       "      <td>Приятный цвет, удобно лежит в руке. Существенн...</td>\n",
       "      <td>Нужен чехол для неаккуратный людей. Так как ст...</td>\n",
       "      <td>Купил для девушки. Всем довольна. Нареканий не...</td>\n",
       "    </tr>\n",
       "    <tr>\n",
       "      <th>3</th>\n",
       "      <td>5</td>\n",
       "      <td>-Процессор А12 бионик. очень быстрый, приложен...</td>\n",
       "      <td>-Скользкий. ВНИМАНИЕ Руки автора отзыва могут ...</td>\n",
       "      <td>До Xr пользовался 5S. Разница колоссальная во ...</td>\n",
       "    </tr>\n",
       "    <tr>\n",
       "      <th>4</th>\n",
       "      <td>5</td>\n",
       "      <td>- Очень живучая батарея. Это первый мой iPhone...</td>\n",
       "      <td>- Все пишут про 3D touch. Я тоже напишу. Его н...</td>\n",
       "      <td>Apple выпустила еще одну модель про которую ещ...</td>\n",
       "    </tr>\n",
       "  </tbody>\n",
       "</table>\n",
       "</div>"
      ],
      "text/plain": [
       "   rate                                         advantages  \\\n",
       "0     5  Быстрый Удобный в пользовании Быстрый FaceID В...   \n",
       "1     5  дизайн, корпус, айОС, долговечность, надёжност...   \n",
       "2     5  Приятный цвет, удобно лежит в руке. Существенн...   \n",
       "3     5  -Процессор А12 бионик. очень быстрый, приложен...   \n",
       "4     5  - Очень живучая батарея. Это первый мой iPhone...   \n",
       "\n",
       "                                       disadvantages  \\\n",
       "0  На задней панели остается очень много отпечатк...   \n",
       "1  камера сильно выступает из корпуса, придется д...   \n",
       "2  Нужен чехол для неаккуратный людей. Так как ст...   \n",
       "3  -Скользкий. ВНИМАНИЕ Руки автора отзыва могут ...   \n",
       "4  - Все пишут про 3D touch. Я тоже напишу. Его н...   \n",
       "\n",
       "                                             comment  \n",
       "0  Это мой первый iOS смартфон. И после трех неде...  \n",
       "1                      Покупкой полностью доволен!!!  \n",
       "2  Купил для девушки. Всем довольна. Нареканий не...  \n",
       "3  До Xr пользовался 5S. Разница колоссальная во ...  \n",
       "4  Apple выпустила еще одну модель про которую ещ...  "
      ]
     },
     "execution_count": 4,
     "metadata": {},
     "output_type": "execute_result"
    }
   ],
   "source": [
    "df = pd.DataFrame(data, columns=columns)\n",
    "df.head()"
   ]
  },
  {
   "cell_type": "code",
   "execution_count": 5,
   "metadata": {},
   "outputs": [
    {
     "name": "stdout",
     "output_type": "stream",
     "text": [
      "<class 'pandas.core.frame.DataFrame'>\n",
      "RangeIndex: 1640 entries, 0 to 1639\n",
      "Data columns (total 4 columns):\n",
      " #   Column         Non-Null Count  Dtype \n",
      "---  ------         --------------  ----- \n",
      " 0   rate           1640 non-null   int64 \n",
      " 1   advantages     1640 non-null   object\n",
      " 2   disadvantages  1640 non-null   object\n",
      " 3   comment        1640 non-null   object\n",
      "dtypes: int64(1), object(3)\n",
      "memory usage: 51.4+ KB\n"
     ]
    }
   ],
   "source": [
    "df.info()"
   ]
  },
  {
   "cell_type": "code",
   "execution_count": 6,
   "metadata": {},
   "outputs": [
    {
     "data": {
      "text/plain": [
       "<AxesSubplot:xlabel='rate', ylabel='count'>"
      ]
     },
     "execution_count": 6,
     "metadata": {},
     "output_type": "execute_result"
    },
    {
     "data": {
      "image/png": "[encoded data removed]",
      "text/plain": [
       "<Figure size 936x360 with 1 Axes>"
      ]
     },
     "metadata": {
      "needs_background": "light"
     },
     "output_type": "display_data"
    }
   ],
   "source": [
    "plt.figure(figsize=(13, 5))\n",
    "seaborn.countplot(x=df['rate'])"
   ]
  },
  {
   "cell_type": "markdown",
   "metadata": {},
   "source": [
    "## Подготовка данных"
   ]
  },
  {
   "cell_type": "code",
   "execution_count": 7,
   "metadata": {},
   "outputs": [
    {
     "data": {
      "text/html": [
       "<div>\n",
       "<style scoped>\n",
       "    .dataframe tbody tr th:only-of-type {\n",
       "        vertical-align: middle;\n",
       "    }\n",
       "\n",
       "    .dataframe tbody tr th {\n",
       "        vertical-align: top;\n",
       "    }\n",
       "\n",
       "    .dataframe thead th {\n",
       "        text-align: right;\n",
       "    }\n",
       "</style>\n",
       "<table border=\"1\" class=\"dataframe\">\n",
       "  <thead>\n",
       "    <tr style=\"text-align: right;\">\n",
       "      <th></th>\n",
       "      <th>rate</th>\n",
       "      <th>advantages</th>\n",
       "      <th>disadvantages</th>\n",
       "      <th>comment</th>\n",
       "      <th>text</th>\n",
       "    </tr>\n",
       "  </thead>\n",
       "  <tbody>\n",
       "    <tr>\n",
       "      <th>0</th>\n",
       "      <td>5</td>\n",
       "      <td>Быстрый Удобный в пользовании Быстрый FaceID В...</td>\n",
       "      <td>На задней панели остается очень много отпечатк...</td>\n",
       "      <td>Это мой первый iOS смартфон. И после трех неде...</td>\n",
       "      <td>Быстрый Удобный в пользовании Быстрый FaceID В...</td>\n",
       "    </tr>\n",
       "    <tr>\n",
       "      <th>1</th>\n",
       "      <td>5</td>\n",
       "      <td>дизайн, корпус, айОС, долговечность, надёжност...</td>\n",
       "      <td>камера сильно выступает из корпуса, придется д...</td>\n",
       "      <td>Покупкой полностью доволен!!!</td>\n",
       "      <td>дизайн, корпус, айОС, долговечность, надёжност...</td>\n",
       "    </tr>\n",
       "    <tr>\n",
       "      <th>2</th>\n",
       "      <td>5</td>\n",
       "      <td>Приятный цвет, удобно лежит в руке. Существенн...</td>\n",
       "      <td>Нужен чехол для неаккуратный людей. Так как ст...</td>\n",
       "      <td>Купил для девушки. Всем довольна. Нареканий не...</td>\n",
       "      <td>Приятный цвет, удобно лежит в руке. Существенн...</td>\n",
       "    </tr>\n",
       "    <tr>\n",
       "      <th>3</th>\n",
       "      <td>5</td>\n",
       "      <td>-Процессор А12 бионик. очень быстрый, приложен...</td>\n",
       "      <td>-Скользкий. ВНИМАНИЕ Руки автора отзыва могут ...</td>\n",
       "      <td>До Xr пользовался 5S. Разница колоссальная во ...</td>\n",
       "      <td>-Процессор А12 бионик. очень быстрый, приложен...</td>\n",
       "    </tr>\n",
       "    <tr>\n",
       "      <th>4</th>\n",
       "      <td>5</td>\n",
       "      <td>- Очень живучая батарея. Это первый мой iPhone...</td>\n",
       "      <td>- Все пишут про 3D touch. Я тоже напишу. Его н...</td>\n",
       "      <td>Apple выпустила еще одну модель про которую ещ...</td>\n",
       "      <td>- Очень живучая батарея. Это первый мой iPhone...</td>\n",
       "    </tr>\n",
       "  </tbody>\n",
       "</table>\n",
       "</div>"
      ],
      "text/plain": [
       "   rate                                         advantages  \\\n",
       "0     5  Быстрый Удобный в пользовании Быстрый FaceID В...   \n",
       "1     5  дизайн, корпус, айОС, долговечность, надёжност...   \n",
       "2     5  Приятный цвет, удобно лежит в руке. Существенн...   \n",
       "3     5  -Процессор А12 бионик. очень быстрый, приложен...   \n",
       "4     5  - Очень живучая батарея. Это первый мой iPhone...   \n",
       "\n",
       "                                       disadvantages  \\\n",
       "0  На задней панели остается очень много отпечатк...   \n",
       "1  камера сильно выступает из корпуса, придется д...   \n",
       "2  Нужен чехол для неаккуратный людей. Так как ст...   \n",
       "3  -Скользкий. ВНИМАНИЕ Руки автора отзыва могут ...   \n",
       "4  - Все пишут про 3D touch. Я тоже напишу. Его н...   \n",
       "\n",
       "                                             comment  \\\n",
       "0  Это мой первый iOS смартфон. И после трех неде...   \n",
       "1                      Покупкой полностью доволен!!!   \n",
       "2  Купил для девушки. Всем довольна. Нареканий не...   \n",
       "3  До Xr пользовался 5S. Разница колоссальная во ...   \n",
       "4  Apple выпустила еще одну модель про которую ещ...   \n",
       "\n",
       "                                                text  \n",
       "0  Быстрый Удобный в пользовании Быстрый FaceID В...  \n",
       "1  дизайн, корпус, айОС, долговечность, надёжност...  \n",
       "2  Приятный цвет, удобно лежит в руке. Существенн...  \n",
       "3  -Процессор А12 бионик. очень быстрый, приложен...  \n",
       "4  - Очень живучая батарея. Это первый мой iPhone...  "
      ]
     },
     "execution_count": 7,
     "metadata": {},
     "output_type": "execute_result"
    }
   ],
   "source": [
    "df['text'] = df['advantages'] + ' ' + df['disadvantages'] + ' ' + df['comment']\n",
    "df.head()"
   ]
  },
  {
   "cell_type": "code",
   "execution_count": 8,
   "metadata": {},
   "outputs": [],
   "source": [
    "mystem = Mystem()\n",
    "STOPWORDS = stopwords.words('russian')\n",
    "\n",
    "def preprocess_text(text):\n",
    "    tokens = mystem.lemmatize(text)\n",
    "    return ' '.join([token for token in tokens if token not in STOPWORDS\\\n",
    "           and token != ' '\\\n",
    "           and token.strip() not in punctuation\\\n",
    "           and not token.isnumeric()\\\n",
    "           and token != '\\xa0— '\\\n",
    "           and '«' not in token and '»' not in token])\n",
    "\n",
    "df['text'] = [preprocess_text(text) for text in df['text']]"
   ]
  },
  {
   "cell_type": "code",
   "execution_count": 9,
   "metadata": {},
   "outputs": [
    {
     "data": {
      "text/html": [
       "<div>\n",
       "<style scoped>\n",
       "    .dataframe tbody tr th:only-of-type {\n",
       "        vertical-align: middle;\n",
       "    }\n",
       "\n",
       "    .dataframe tbody tr th {\n",
       "        vertical-align: top;\n",
       "    }\n",
       "\n",
       "    .dataframe thead th {\n",
       "        text-align: right;\n",
       "    }\n",
       "</style>\n",
       "<table border=\"1\" class=\"dataframe\">\n",
       "  <thead>\n",
       "    <tr style=\"text-align: right;\">\n",
       "      <th></th>\n",
       "      <th>rate</th>\n",
       "      <th>advantages</th>\n",
       "      <th>disadvantages</th>\n",
       "      <th>comment</th>\n",
       "      <th>text</th>\n",
       "    </tr>\n",
       "  </thead>\n",
       "  <tbody>\n",
       "    <tr>\n",
       "      <th>0</th>\n",
       "      <td>5</td>\n",
       "      <td>Быстрый Удобный в пользовании Быстрый FaceID В...</td>\n",
       "      <td>На задней панели остается очень много отпечатк...</td>\n",
       "      <td>Это мой первый iOS смартфон. И после трех неде...</td>\n",
       "      <td>быстрый удобный пользование быстрый FaceID впо...</td>\n",
       "    </tr>\n",
       "    <tr>\n",
       "      <th>1</th>\n",
       "      <td>5</td>\n",
       "      <td>дизайн, корпус, айОС, долговечность, надёжност...</td>\n",
       "      <td>камера сильно выступает из корпуса, придется д...</td>\n",
       "      <td>Покупкой полностью доволен!!!</td>\n",
       "      <td>дизайн корпус айос долговечность надежность бе...</td>\n",
       "    </tr>\n",
       "    <tr>\n",
       "      <th>2</th>\n",
       "      <td>5</td>\n",
       "      <td>Приятный цвет, удобно лежит в руке. Существенн...</td>\n",
       "      <td>Нужен чехол для неаккуратный людей. Так как ст...</td>\n",
       "      <td>Купил для девушки. Всем довольна. Нареканий не...</td>\n",
       "      <td>приятный цвет удобно лежать рука существенно ш...</td>\n",
       "    </tr>\n",
       "    <tr>\n",
       "      <th>3</th>\n",
       "      <td>5</td>\n",
       "      <td>-Процессор А12 бионик. очень быстрый, приложен...</td>\n",
       "      <td>-Скользкий. ВНИМАНИЕ Руки автора отзыва могут ...</td>\n",
       "      <td>До Xr пользовался 5S. Разница колоссальная во ...</td>\n",
       "      <td>процессор А12 бионика очень быстрый приложение...</td>\n",
       "    </tr>\n",
       "    <tr>\n",
       "      <th>4</th>\n",
       "      <td>5</td>\n",
       "      <td>- Очень живучая батарея. Это первый мой iPhone...</td>\n",
       "      <td>- Все пишут про 3D touch. Я тоже напишу. Его н...</td>\n",
       "      <td>Apple выпустила еще одну модель про которую ещ...</td>\n",
       "      <td>очень живучий батарея это первый iPhone живучи...</td>\n",
       "    </tr>\n",
       "  </tbody>\n",
       "</table>\n",
       "</div>"
      ],
      "text/plain": [
       "   rate                                         advantages  \\\n",
       "0     5  Быстрый Удобный в пользовании Быстрый FaceID В...   \n",
       "1     5  дизайн, корпус, айОС, долговечность, надёжност...   \n",
       "2     5  Приятный цвет, удобно лежит в руке. Существенн...   \n",
       "3     5  -Процессор А12 бионик. очень быстрый, приложен...   \n",
       "4     5  - Очень живучая батарея. Это первый мой iPhone...   \n",
       "\n",
       "                                       disadvantages  \\\n",
       "0  На задней панели остается очень много отпечатк...   \n",
       "1  камера сильно выступает из корпуса, придется д...   \n",
       "2  Нужен чехол для неаккуратный людей. Так как ст...   \n",
       "3  -Скользкий. ВНИМАНИЕ Руки автора отзыва могут ...   \n",
       "4  - Все пишут про 3D touch. Я тоже напишу. Его н...   \n",
       "\n",
       "                                             comment  \\\n",
       "0  Это мой первый iOS смартфон. И после трех неде...   \n",
       "1                      Покупкой полностью доволен!!!   \n",
       "2  Купил для девушки. Всем довольна. Нареканий не...   \n",
       "3  До Xr пользовался 5S. Разница колоссальная во ...   \n",
       "4  Apple выпустила еще одну модель про которую ещ...   \n",
       "\n",
       "                                                text  \n",
       "0  быстрый удобный пользование быстрый FaceID впо...  \n",
       "1  дизайн корпус айос долговечность надежность бе...  \n",
       "2  приятный цвет удобно лежать рука существенно ш...  \n",
       "3  процессор А12 бионика очень быстрый приложение...  \n",
       "4  очень живучий батарея это первый iPhone живучи...  "
      ]
     },
     "execution_count": 9,
     "metadata": {},
     "output_type": "execute_result"
    }
   ],
   "source": [
    "df.head()"
   ]
  },
  {
   "cell_type": "markdown",
   "metadata": {},
   "source": [
    "## Построение модели\n",
    "Отзыв считается плохим, если оценка меньше 3-х звёзд. Так положительных отзывов намного больше, будет целесообразным обозначить негативные отзывы 0."
   ]
  },
  {
   "cell_type": "code",
   "execution_count": 10,
   "metadata": {},
   "outputs": [],
   "source": [
    "Y = np.array([1 if rate <= 3 else 0 for rate in df['rate']])\n",
    "train_x, test_x, train_y, test_y = model_selection.train_test_split(df['text'], Y)"
   ]
  },
  {
   "cell_type": "code",
   "execution_count": 11,
   "metadata": {},
   "outputs": [
    {
     "name": "stdout",
     "output_type": "stream",
     "text": [
      "(1230,) (410,)\n"
     ]
    }
   ],
   "source": [
    "print(train_y.shape, test_y.shape)"
   ]
  },
  {
   "cell_type": "code",
   "execution_count": 40,
   "metadata": {},
   "outputs": [
    {
     "data": {
      "text/plain": [
       "(0.0, 1200.0)"
      ]
     },
     "execution_count": 40,
     "metadata": {},
     "output_type": "execute_result"
    },
    {
     "data": {
      "image/png": "[encoded data removed]",
      "text/plain": [
       "<Figure size 1440x720 with 2 Axes>"
      ]
     },
     "metadata": {
      "needs_background": "light"
     },
     "output_type": "display_data"
    }
   ],
   "source": [
    "fig, axes = plt.subplots(1, 2, figsize=(20, 10))\n",
    "\n",
    "seaborn.countplot(x=train_y, ax=axes[0])\n",
    "axes[0].set_ylim([0, 1200])\n",
    "seaborn.countplot(x=test_y, ax=axes[1])\n",
    "axes[1].set_ylim([0, 1200])"
   ]
  },
  {
   "cell_type": "markdown",
   "metadata": {},
   "source": [
    "### Метрики\n",
    "Так как датасет не сбалансированный, необходимо использовать precision и recall\n",
    "![Confusion Matrix](https://miro.medium.com/max/2400/1*OhEnS-T54Cz0YSTl_c3Dwg.jpeg)\n",
    "$$ accuracy = \\frac{T_p + T_n}{T_p + T_n + F_p + F_n} $$ - отношение верных предсказаний ко всем предсказаниям. В данном случае даст недостоверные показания, так как единиц намного больше\n",
    "$$ precision = \\frac{T_p}{T_p + F_p} $$ - отношение верно предсказанных единиц ко всем предсказанным единицам\n",
    "$$ recall = \\frac{T_p}{T_p + F_n} $$ - отношение верно предсказанных единиц к числу эталонных единиц\n",
    "$$ F_1 = 2 * \\frac{Pr * Re}{Pr + Re} $$ - среднее гармоническое precision и recall"
   ]
  },
  {
   "cell_type": "code",
   "execution_count": 23,
   "metadata": {},
   "outputs": [],
   "source": [
    "def print_scores(predictions, expected):\n",
    "    print('-------------')\n",
    "    print(f'accuracy=[{metrics.accuracy_score(predictions, expected)}]')\n",
    "    print(f'precision=[{metrics.precision_score(predictions, expected)}]')\n",
    "    print(f'recall=[{metrics.recall_score(predictions, expected)}]')\n",
    "    print(f'F1=[{metrics.f1_score(predictions, expected)}]')\n",
    "    print('-------------')"
   ]
  },
  {
   "cell_type": "markdown",
   "metadata": {},
   "source": [
    "### Count Vectors"
   ]
  },
  {
   "cell_type": "code",
   "execution_count": 15,
   "metadata": {},
   "outputs": [],
   "source": [
    "count_vect = CountVectorizer()\n",
    "count_vect.fit(train_x)\n",
    "\n",
    "xtrain_count = count_vect.transform(train_x)\n",
    "xtest_count = count_vect.transform(test_x)"
   ]
  },
  {
   "cell_type": "markdown",
   "metadata": {},
   "source": [
    "### TF-IDF Vectors"
   ]
  },
  {
   "cell_type": "code",
   "execution_count": 16,
   "metadata": {},
   "outputs": [],
   "source": [
    "tfidf_vect = TfidfVectorizer()\n",
    "tfidf_vect.fit(train_x)\n",
    "\n",
    "xtrain_tfidf = tfidf_vect.transform(train_x)\n",
    "xtest_tfidf = tfidf_vect.transform(test_x)"
   ]
  },
  {
   "cell_type": "markdown",
   "metadata": {},
   "source": [
    "## Naive Bayes"
   ]
  },
  {
   "cell_type": "code",
   "execution_count": 24,
   "metadata": {},
   "outputs": [
    {
     "name": "stdout",
     "output_type": "stream",
     "text": [
      "Count Vectors\n",
      "-------------\n",
      "accuracy=[0.9097560975609756]\n",
      "precision=[0.05405405405405406]\n",
      "recall=[0.5]\n",
      "F1=[0.0975609756097561]\n",
      "-------------\n",
      "TF-IDF Vectors\n",
      "-------------\n",
      "accuracy=[0.9097560975609756]\n",
      "precision=[0.0]\n",
      "recall=[0.0]\n",
      "F1=[0.0]\n",
      "-------------\n"
     ]
    },
    {
     "name": "stderr",
     "output_type": "stream",
     "text": [
      "/home/ginkul/.local/lib/python3.9/site-packages/sklearn/metrics/_classification.py:1245: UndefinedMetricWarning: Recall is ill-defined and being set to 0.0 due to no true samples. Use `zero_division` parameter to control this behavior.\n",
      "  _warn_prf(average, modifier, msg_start, len(result))\n"
     ]
    }
   ],
   "source": [
    "model = MultinomialNB()\n",
    "model.fit(xtrain_count, train_y)\n",
    "predictions = model.predict(xtest_count)\n",
    "print('Count Vectors')\n",
    "print_scores(predictions, test_y)\n",
    "\n",
    "model = MultinomialNB()\n",
    "model.fit(xtrain_tfidf, train_y)\n",
    "predictions = model.predict(xtest_tfidf)\n",
    "print('TF-IDF Vectors')\n",
    "print_scores(predictions, test_y)"
   ]
  },
  {
   "cell_type": "markdown",
   "metadata": {},
   "source": [
    "## Random Forest"
   ]
  },
  {
   "cell_type": "code",
   "execution_count": 25,
   "metadata": {},
   "outputs": [
    {
     "name": "stdout",
     "output_type": "stream",
     "text": [
      "Count Vectors\n",
      "-------------\n",
      "accuracy=[0.9121951219512195]\n",
      "precision=[0.02702702702702703]\n",
      "recall=[1.0]\n",
      "F1=[0.052631578947368425]\n",
      "-------------\n",
      "TF-IDF Vectors\n",
      "-------------\n",
      "accuracy=[0.9097560975609756]\n",
      "precision=[0.02702702702702703]\n",
      "recall=[0.5]\n",
      "F1=[0.05128205128205129]\n",
      "-------------\n"
     ]
    }
   ],
   "source": [
    "model = RandomForestClassifier()\n",
    "model.fit(xtrain_count, train_y)\n",
    "predictions = model.predict(xtest_count)\n",
    "print('Count Vectors')\n",
    "print_scores(predictions, test_y)\n",
    "\n",
    "model = RandomForestClassifier()\n",
    "model.fit(xtrain_tfidf, train_y)\n",
    "predictions = model.predict(xtest_tfidf)\n",
    "print('TF-IDF Vectors')\n",
    "print_scores(predictions, test_y)"
   ]
  },
  {
   "cell_type": "markdown",
   "metadata": {},
   "source": [
    "## Logistic Regression"
   ]
  },
  {
   "cell_type": "code",
   "execution_count": 32,
   "metadata": {},
   "outputs": [
    {
     "name": "stdout",
     "output_type": "stream",
     "text": [
      "Count Vectors\n",
      "-------------\n",
      "accuracy=[0.9073170731707317]\n",
      "precision=[0.08108108108108109]\n",
      "recall=[0.42857142857142855]\n",
      "F1=[0.13636363636363638]\n",
      "-------------\n",
      "Count Vectors\n",
      "-------------\n",
      "accuracy=[0.9097560975609756]\n",
      "precision=[0.0]\n",
      "recall=[0.0]\n",
      "F1=[0.0]\n",
      "-------------\n"
     ]
    },
    {
     "name": "stderr",
     "output_type": "stream",
     "text": [
      "/home/ginkul/.local/lib/python3.9/site-packages/sklearn/metrics/_classification.py:1245: UndefinedMetricWarning: Recall is ill-defined and being set to 0.0 due to no true samples. Use `zero_division` parameter to control this behavior.\n",
      "  _warn_prf(average, modifier, msg_start, len(result))\n"
     ]
    }
   ],
   "source": [
    "model = LogisticRegression()\n",
    "model.fit(xtrain_count, train_y)\n",
    "predictions = model.predict(xtest_count)\n",
    "print('Count Vectors')\n",
    "print_scores(predictions, test_y)\n",
    "\n",
    "model = LogisticRegression()\n",
    "model.fit(xtrain_tfidf, train_y)\n",
    "predictions = model.predict(xtest_tfidf)\n",
    "print('Count Vectors')\n",
    "print_scores(predictions, test_y)"
   ]
  },
  {
   "cell_type": "markdown",
   "metadata": {},
   "source": [
    "## Bagging Model"
   ]
  },
  {
   "cell_type": "code",
   "execution_count": 43,
   "metadata": {},
   "outputs": [
    {
     "name": "stdout",
     "output_type": "stream",
     "text": [
      "Count Vectors\n",
      "-------------\n",
      "accuracy=[0.9146341463414634]\n",
      "precision=[0.16216216216216217]\n",
      "recall=[0.6]\n",
      "F1=[0.25531914893617025]\n",
      "-------------\n",
      "Count Vectors\n",
      "-------------\n",
      "accuracy=[0.9024390243902439]\n",
      "precision=[0.16216216216216217]\n",
      "recall=[0.4]\n",
      "F1=[0.23076923076923078]\n",
      "-------------\n"
     ]
    }
   ],
   "source": [
    "model = BaggingClassifier()\n",
    "model.fit(xtrain_count, train_y)\n",
    "predictions = model.predict(xtest_count)\n",
    "print('Count Vectors')\n",
    "print_scores(predictions, test_y)\n",
    "\n",
    "model = BaggingClassifier()\n",
    "model.fit(xtrain_tfidf, train_y)\n",
    "predictions = model.predict(xtest_tfidf)\n",
    "print('Count Vectors')\n",
    "print_scores(predictions, test_y)"
   ]
  },
  {
   "cell_type": "markdown",
   "metadata": {},
   "source": [
    "## Boosting Model"
   ]
  },
  {
   "cell_type": "code",
   "execution_count": 41,
   "metadata": {},
   "outputs": [
    {
     "name": "stdout",
     "output_type": "stream",
     "text": [
      "Count Vectors\n",
      "-------------\n",
      "accuracy=[0.8951219512195122]\n",
      "precision=[0.24324324324324326]\n",
      "recall=[0.375]\n",
      "F1=[0.2950819672131148]\n",
      "-------------\n",
      "Count Vectors\n",
      "-------------\n",
      "accuracy=[0.8902439024390244]\n",
      "precision=[0.21621621621621623]\n",
      "recall=[0.3333333333333333]\n",
      "F1=[0.26229508196721313]\n",
      "-------------\n"
     ]
    }
   ],
   "source": [
    "model = AdaBoostClassifier(n_estimators=500)\n",
    "model.fit(xtrain_count, train_y)\n",
    "predictions = model.predict(xtest_count)\n",
    "print('Count Vectors')\n",
    "print_scores(predictions, test_y)\n",
    "\n",
    "model = AdaBoostClassifier(n_estimators=500)\n",
    "model.fit(xtrain_tfidf, train_y)\n",
    "predictions = model.predict(xtest_tfidf)\n",
    "print('Count Vectors')\n",
    "print_scores(predictions, test_y)"
   ]
  }
 ],
 "metadata": {
  "kernelspec": {
   "display_name": "Python 3",
   "language": "python",
   "name": "python3"
  },
  "language_info": {
   "codemirror_mode": {
    "name": "ipython",
    "version": 3
   },
   "file_extension": ".py",
   "mimetype": "text/x-python",
   "name": "python",
   "nbconvert_exporter": "python",
   "pygments_lexer": "ipython3",
   "version": "3.9.1"
  }
 },
 "nbformat": 4,
 "nbformat_minor": 4
}
